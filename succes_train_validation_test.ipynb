{
 "cells": [
  {
   "cell_type": "code",
   "execution_count": 0,
   "metadata": {
    "colab": {
     "base_uri": "https://localhost:8080/",
     "height": 129
    },
    "colab_type": "code",
    "id": "BHEV9fVDw0mf",
    "outputId": "491cd8bc-a945-4d58-d300-699e915382a8"
   },
   "outputs": [
    {
     "name": "stdout",
     "output_type": "stream",
     "text": [
      "Go to this URL in a browser: https://accounts.google.com/o/oauth2/auth?client_id=947318989803-6bn6qk8qdgf4n4g3pfee6491hc0brc4i.apps.googleusercontent.com&redirect_uri=urn%3Aietf%3Awg%3Aoauth%3A2.0%3Aoob&scope=email%20https%3A%2F%2Fwww.googleapis.com%2Fauth%2Fdocs.test%20https%3A%2F%2Fwww.googleapis.com%2Fauth%2Fdrive%20https%3A%2F%2Fwww.googleapis.com%2Fauth%2Fdrive.photos.readonly%20https%3A%2F%2Fwww.googleapis.com%2Fauth%2Fpeopleapi.readonly&response_type=code\n",
      "\n",
      "Enter your authorization code:\n",
      "··········\n",
      "Mounted at /content/drive\n"
     ]
    }
   ],
   "source": [
    "from google.colab import drive\n",
    "drive.mount('/content/drive')"
   ]
  },
  {
   "cell_type": "code",
   "execution_count": 0,
   "metadata": {
    "colab": {
     "base_uri": "https://localhost:8080/",
     "height": 35
    },
    "colab_type": "code",
    "id": "fLqlESLKxFnA",
    "outputId": "e860431d-ec6e-4e8c-f7f8-f182325daf59"
   },
   "outputs": [
    {
     "name": "stderr",
     "output_type": "stream",
     "text": [
      "Using TensorFlow backend.\n"
     ]
    }
   ],
   "source": [
    "from keras import applications\n",
    "from keras.preprocessing.image import ImageDataGenerator\n",
    "from keras import optimizers\n",
    "from keras.models import Sequential, Model \n",
    "from keras.layers import Dropout, Flatten, Dense, GlobalAveragePooling2D\n",
    "from keras import backend as k "
   ]
  },
  {
   "cell_type": "code",
   "execution_count": 0,
   "metadata": {
    "colab": {
     "base_uri": "https://localhost:8080/",
     "height": 313
    },
    "colab_type": "code",
    "id": "P2hAnM3RxNHH",
    "outputId": "b298395a-98c5-48b2-fa44-4582ae7a9332"
   },
   "outputs": [
    {
     "name": "stderr",
     "output_type": "stream",
     "text": [
      "WARNING: Logging before flag parsing goes to stderr.\n",
      "W0828 12:13:21.824396 140128312727424 deprecation_wrapper.py:119] From /usr/local/lib/python3.6/dist-packages/keras/backend/tensorflow_backend.py:74: The name tf.get_default_graph is deprecated. Please use tf.compat.v1.get_default_graph instead.\n",
      "\n",
      "W0828 12:13:21.872390 140128312727424 deprecation_wrapper.py:119] From /usr/local/lib/python3.6/dist-packages/keras/backend/tensorflow_backend.py:517: The name tf.placeholder is deprecated. Please use tf.compat.v1.placeholder instead.\n",
      "\n",
      "W0828 12:13:21.885818 140128312727424 deprecation_wrapper.py:119] From /usr/local/lib/python3.6/dist-packages/keras/backend/tensorflow_backend.py:4138: The name tf.random_uniform is deprecated. Please use tf.random.uniform instead.\n",
      "\n",
      "W0828 12:13:21.932277 140128312727424 deprecation_wrapper.py:119] From /usr/local/lib/python3.6/dist-packages/keras/backend/tensorflow_backend.py:3976: The name tf.nn.max_pool is deprecated. Please use tf.nn.max_pool2d instead.\n",
      "\n"
     ]
    },
    {
     "name": "stdout",
     "output_type": "stream",
     "text": [
      "Downloading data from https://github.com/fchollet/deep-learning-models/releases/download/v0.1/vgg19_weights_tf_dim_ordering_tf_kernels_notop.h5\n",
      "80142336/80134624 [==============================] - 3s 0us/step\n"
     ]
    },
    {
     "name": "stderr",
     "output_type": "stream",
     "text": [
      "W0828 12:13:31.165503 140128312727424 deprecation_wrapper.py:119] From /usr/local/lib/python3.6/dist-packages/keras/backend/tensorflow_backend.py:174: The name tf.get_default_session is deprecated. Please use tf.compat.v1.get_default_session instead.\n",
      "\n",
      "W0828 12:13:31.166588 140128312727424 deprecation_wrapper.py:119] From /usr/local/lib/python3.6/dist-packages/keras/backend/tensorflow_backend.py:181: The name tf.ConfigProto is deprecated. Please use tf.compat.v1.ConfigProto instead.\n",
      "\n"
     ]
    }
   ],
   "source": [
    "img_width, img_height = 128, 128\n",
    "train_data_dir = \"drive/My Drive/final_dataset_valid/training_set\"\n",
    "validation_data_dir = \"drive/My Drive/final_dataset_valid/validation_set\"\n",
    "nb_train_samples = 1800\n",
    "nb_validation_samples = 600 \n",
    "batch_size = 2\n",
    "epochs = 70\n",
    "\n",
    "model = applications.VGG19(weights = \"imagenet\", include_top=False, input_shape = (img_width, img_height, 3))"
   ]
  },
  {
   "cell_type": "code",
   "execution_count": 0,
   "metadata": {
    "colab": {
     "base_uri": "https://localhost:8080/",
     "height": 954
    },
    "colab_type": "code",
    "id": "QpzCUbCOJ2lZ",
    "outputId": "3f1eccd2-0ce8-4d58-937d-c6bf4b21c197"
   },
   "outputs": [
    {
     "name": "stdout",
     "output_type": "stream",
     "text": [
      "_________________________________________________________________\n",
      "Layer (type)                 Output Shape              Param #   \n",
      "=================================================================\n",
      "input_1 (InputLayer)         (None, 128, 128, 3)       0         \n",
      "_________________________________________________________________\n",
      "block1_conv1 (Conv2D)        (None, 128, 128, 64)      1792      \n",
      "_________________________________________________________________\n",
      "block1_conv2 (Conv2D)        (None, 128, 128, 64)      36928     \n",
      "_________________________________________________________________\n",
      "block1_pool (MaxPooling2D)   (None, 64, 64, 64)        0         \n",
      "_________________________________________________________________\n",
      "block2_conv1 (Conv2D)        (None, 64, 64, 128)       73856     \n",
      "_________________________________________________________________\n",
      "block2_conv2 (Conv2D)        (None, 64, 64, 128)       147584    \n",
      "_________________________________________________________________\n",
      "block2_pool (MaxPooling2D)   (None, 32, 32, 128)       0         \n",
      "_________________________________________________________________\n",
      "block3_conv1 (Conv2D)        (None, 32, 32, 256)       295168    \n",
      "_________________________________________________________________\n",
      "block3_conv2 (Conv2D)        (None, 32, 32, 256)       590080    \n",
      "_________________________________________________________________\n",
      "block3_conv3 (Conv2D)        (None, 32, 32, 256)       590080    \n",
      "_________________________________________________________________\n",
      "block3_conv4 (Conv2D)        (None, 32, 32, 256)       590080    \n",
      "_________________________________________________________________\n",
      "block3_pool (MaxPooling2D)   (None, 16, 16, 256)       0         \n",
      "_________________________________________________________________\n",
      "block4_conv1 (Conv2D)        (None, 16, 16, 512)       1180160   \n",
      "_________________________________________________________________\n",
      "block4_conv2 (Conv2D)        (None, 16, 16, 512)       2359808   \n",
      "_________________________________________________________________\n",
      "block4_conv3 (Conv2D)        (None, 16, 16, 512)       2359808   \n",
      "_________________________________________________________________\n",
      "block4_conv4 (Conv2D)        (None, 16, 16, 512)       2359808   \n",
      "_________________________________________________________________\n",
      "block4_pool (MaxPooling2D)   (None, 8, 8, 512)         0         \n",
      "_________________________________________________________________\n",
      "block5_conv1 (Conv2D)        (None, 8, 8, 512)         2359808   \n",
      "_________________________________________________________________\n",
      "block5_conv2 (Conv2D)        (None, 8, 8, 512)         2359808   \n",
      "_________________________________________________________________\n",
      "block5_conv3 (Conv2D)        (None, 8, 8, 512)         2359808   \n",
      "_________________________________________________________________\n",
      "block5_conv4 (Conv2D)        (None, 8, 8, 512)         2359808   \n",
      "_________________________________________________________________\n",
      "block5_pool (MaxPooling2D)   (None, 4, 4, 512)         0         \n",
      "=================================================================\n",
      "Total params: 20,024,384\n",
      "Trainable params: 19,911,808\n",
      "Non-trainable params: 112,576\n",
      "_________________________________________________________________\n"
     ]
    }
   ],
   "source": [
    "model.summary()"
   ]
  },
  {
   "cell_type": "code",
   "execution_count": 0,
   "metadata": {
    "colab": {},
    "colab_type": "code",
    "id": "5DX68fQAxiwI"
   },
   "outputs": [],
   "source": [
    "for layer in model.layers[:5]:\n",
    "    layer.trainable = False"
   ]
  },
  {
   "cell_type": "code",
   "execution_count": 0,
   "metadata": {
    "colab": {
     "base_uri": "https://localhost:8080/",
     "height": 166
    },
    "colab_type": "code",
    "id": "T1M8PUOgxokb",
    "outputId": "167b7fe1-47ca-4957-c48b-f286ecc56d48"
   },
   "outputs": [
    {
     "name": "stderr",
     "output_type": "stream",
     "text": [
      "W0828 12:13:51.769161 140128312727424 deprecation.py:506] From /usr/local/lib/python3.6/dist-packages/keras/backend/tensorflow_backend.py:3445: calling dropout (from tensorflow.python.ops.nn_ops) with keep_prob is deprecated and will be removed in a future version.\n",
      "Instructions for updating:\n",
      "Please use `rate` instead of `keep_prob`. Rate should be set to `rate = 1 - keep_prob`.\n",
      "/usr/local/lib/python3.6/dist-packages/ipykernel_launcher.py:8: UserWarning: Update your `Model` call to the Keras 2 API: `Model(inputs=Tensor(\"in..., outputs=Tensor(\"de...)`\n",
      "  \n",
      "W0828 12:13:51.826737 140128312727424 deprecation_wrapper.py:119] From /usr/local/lib/python3.6/dist-packages/keras/optimizers.py:790: The name tf.train.Optimizer is deprecated. Please use tf.compat.v1.train.Optimizer instead.\n",
      "\n"
     ]
    }
   ],
   "source": [
    "x = model.output\n",
    "x = Flatten()(x)\n",
    "x = Dense(1024, activation=\"relu\")(x)\n",
    "x = Dropout(0.3)(x)\n",
    "x = Dense(1024, activation=\"relu\")(x)\n",
    "predictions = Dense(3, activation=\"softmax\")(x)\n",
    "\n",
    "model_final = Model(input = model.input, output = predictions)\n",
    "\n",
    "model_final.compile(loss = \"categorical_crossentropy\", optimizer = optimizers.SGD(lr=0.0001, momentum=0.9), metrics=[\"accuracy\"])"
   ]
  },
  {
   "cell_type": "code",
   "execution_count": 0,
   "metadata": {
    "colab": {
     "base_uri": "https://localhost:8080/",
     "height": 1000
    },
    "colab_type": "code",
    "id": "tnZ6RAG5Jax4",
    "outputId": "dd4bfabf-9f26-41d2-ed39-d7c14eacfb6a"
   },
   "outputs": [
    {
     "name": "stdout",
     "output_type": "stream",
     "text": [
      "_________________________________________________________________\n",
      "Layer (type)                 Output Shape              Param #   \n",
      "=================================================================\n",
      "input_1 (InputLayer)         (None, 128, 128, 3)       0         \n",
      "_________________________________________________________________\n",
      "block1_conv1 (Conv2D)        (None, 128, 128, 64)      1792      \n",
      "_________________________________________________________________\n",
      "block1_conv2 (Conv2D)        (None, 128, 128, 64)      36928     \n",
      "_________________________________________________________________\n",
      "block1_pool (MaxPooling2D)   (None, 64, 64, 64)        0         \n",
      "_________________________________________________________________\n",
      "block2_conv1 (Conv2D)        (None, 64, 64, 128)       73856     \n",
      "_________________________________________________________________\n",
      "block2_conv2 (Conv2D)        (None, 64, 64, 128)       147584    \n",
      "_________________________________________________________________\n",
      "block2_pool (MaxPooling2D)   (None, 32, 32, 128)       0         \n",
      "_________________________________________________________________\n",
      "block3_conv1 (Conv2D)        (None, 32, 32, 256)       295168    \n",
      "_________________________________________________________________\n",
      "block3_conv2 (Conv2D)        (None, 32, 32, 256)       590080    \n",
      "_________________________________________________________________\n",
      "block3_conv3 (Conv2D)        (None, 32, 32, 256)       590080    \n",
      "_________________________________________________________________\n",
      "block3_conv4 (Conv2D)        (None, 32, 32, 256)       590080    \n",
      "_________________________________________________________________\n",
      "block3_pool (MaxPooling2D)   (None, 16, 16, 256)       0         \n",
      "_________________________________________________________________\n",
      "block4_conv1 (Conv2D)        (None, 16, 16, 512)       1180160   \n",
      "_________________________________________________________________\n",
      "block4_conv2 (Conv2D)        (None, 16, 16, 512)       2359808   \n",
      "_________________________________________________________________\n",
      "block4_conv3 (Conv2D)        (None, 16, 16, 512)       2359808   \n",
      "_________________________________________________________________\n",
      "block4_conv4 (Conv2D)        (None, 16, 16, 512)       2359808   \n",
      "_________________________________________________________________\n",
      "block4_pool (MaxPooling2D)   (None, 8, 8, 512)         0         \n",
      "_________________________________________________________________\n",
      "block5_conv1 (Conv2D)        (None, 8, 8, 512)         2359808   \n",
      "_________________________________________________________________\n",
      "block5_conv2 (Conv2D)        (None, 8, 8, 512)         2359808   \n",
      "_________________________________________________________________\n",
      "block5_conv3 (Conv2D)        (None, 8, 8, 512)         2359808   \n",
      "_________________________________________________________________\n",
      "block5_conv4 (Conv2D)        (None, 8, 8, 512)         2359808   \n",
      "_________________________________________________________________\n",
      "block5_pool (MaxPooling2D)   (None, 4, 4, 512)         0         \n",
      "_________________________________________________________________\n",
      "flatten_1 (Flatten)          (None, 8192)              0         \n",
      "_________________________________________________________________\n",
      "dense_1 (Dense)              (None, 1024)              8389632   \n",
      "_________________________________________________________________\n",
      "dropout_1 (Dropout)          (None, 1024)              0         \n",
      "_________________________________________________________________\n",
      "dense_2 (Dense)              (None, 1024)              1049600   \n",
      "_________________________________________________________________\n",
      "dense_3 (Dense)              (None, 3)                 3075      \n",
      "=================================================================\n",
      "Total params: 29,466,691\n",
      "Trainable params: 29,354,115\n",
      "Non-trainable params: 112,576\n",
      "_________________________________________________________________\n"
     ]
    }
   ],
   "source": [
    "model_final.summary()"
   ]
  },
  {
   "cell_type": "code",
   "execution_count": 0,
   "metadata": {
    "colab": {
     "base_uri": "https://localhost:8080/",
     "height": 54
    },
    "colab_type": "code",
    "id": "7FEkSStgx0-k",
    "outputId": "4a33425f-b659-40fa-9fba-a3f335ae3af2"
   },
   "outputs": [
    {
     "name": "stdout",
     "output_type": "stream",
     "text": [
      "Found 1800 images belonging to 3 classes.\n",
      "Found 600 images belonging to 3 classes.\n"
     ]
    }
   ],
   "source": [
    "train_datagen = ImageDataGenerator(\n",
    "rescale = 1./255,\n",
    "horizontal_flip = True,\n",
    "fill_mode = \"nearest\",\n",
    "zoom_range = 0.3,\n",
    "width_shift_range = 0.2,\n",
    "height_shift_range=0.2,\n",
    "rotation_range=40)\n",
    "\n",
    "validation_datagen = ImageDataGenerator(\n",
    "rescale = 1./255,\n",
    "horizontal_flip = True,\n",
    "fill_mode = \"nearest\",\n",
    "zoom_range = 0.3,\n",
    "width_shift_range = 0.2,\n",
    "height_shift_range=0.2,\n",
    "rotation_range=40)\n",
    "\n",
    "train_generator = train_datagen.flow_from_directory(\n",
    "train_data_dir,\n",
    "target_size = (img_height, img_width),\n",
    "batch_size = batch_size, \n",
    "class_mode = \"categorical\")\n",
    "\n",
    "validation_generator = validation_datagen.flow_from_directory(\n",
    "validation_data_dir,\n",
    "target_size = (img_height, img_width),\n",
    "class_mode = \"categorical\")\n"
   ]
  },
  {
   "cell_type": "code",
   "execution_count": 0,
   "metadata": {
    "colab": {
     "base_uri": "https://localhost:8080/",
     "height": 35
    },
    "colab_type": "code",
    "id": "6105n1k9ySVz",
    "outputId": "c209c0ba-044e-4084-83c4-25a18429387b"
   },
   "outputs": [
    {
     "name": "stdout",
     "output_type": "stream",
     "text": [
      "Requirement already satisfied: tensorboardcolab in /usr/local/lib/python3.6/dist-packages (0.0.22)\n"
     ]
    }
   ],
   "source": [
    "!pip install tensorboardcolab"
   ]
  },
  {
   "cell_type": "code",
   "execution_count": 0,
   "metadata": {
    "colab": {
     "base_uri": "https://localhost:8080/",
     "height": 72
    },
    "colab_type": "code",
    "id": "9pzy4F9tI0qZ",
    "outputId": "a28a0ab2-fae1-4f1b-9aa9-5bec5f53a805"
   },
   "outputs": [
    {
     "name": "stdout",
     "output_type": "stream",
     "text": [
      "Wait for 8 seconds...\n",
      "TensorBoard link:\n",
      "http://13db2bf1.ngrok.io\n"
     ]
    }
   ],
   "source": [
    "from tensorboardcolab import TensorBoardColab, TensorBoardColabCallback\n",
    "\n",
    "tbc=TensorBoardColab()"
   ]
  },
  {
   "cell_type": "code",
   "execution_count": 0,
   "metadata": {
    "colab": {
     "base_uri": "https://localhost:8080/",
     "height": 1000
    },
    "colab_type": "code",
    "id": "GSkA_DS8y-C-",
    "outputId": "44ce11f8-fdbe-4747-e703-c58057cba229"
   },
   "outputs": [
    {
     "name": "stderr",
     "output_type": "stream",
     "text": [
      "/usr/local/lib/python3.6/dist-packages/ipykernel_launcher.py:7: UserWarning: The semantics of the Keras 2 argument `steps_per_epoch` is not the same as the Keras 1 argument `samples_per_epoch`. `steps_per_epoch` is the number of batches to draw from the generator at each epoch. Basically steps_per_epoch = samples_per_epoch/batch_size. Similarly `nb_val_samples`->`validation_steps` and `val_samples`->`steps` arguments have changed. Update your method calls accordingly.\n",
      "  import sys\n",
      "/usr/local/lib/python3.6/dist-packages/ipykernel_launcher.py:7: UserWarning: Update your `fit_generator` call to the Keras 2 API: `fit_generator(<keras_pre..., epochs=70, validation_data=<keras_pre..., callbacks=[<tensorbo..., steps_per_epoch=900, validation_steps=600)`\n",
      "  import sys\n"
     ]
    },
    {
     "name": "stdout",
     "output_type": "stream",
     "text": [
      "Epoch 1/70\n",
      "900/900 [==============================] - 195s 217ms/step - loss: 1.1130 - acc: 0.3828 - val_loss: 1.0690 - val_acc: 0.3835\n",
      "Epoch 2/70\n",
      "900/900 [==============================] - 118s 132ms/step - loss: 0.9993 - acc: 0.4989 - val_loss: 0.8723 - val_acc: 0.5282\n",
      "Epoch 3/70\n",
      "900/900 [==============================] - 117s 130ms/step - loss: 0.8372 - acc: 0.6211 - val_loss: 0.8978 - val_acc: 0.5479\n",
      "Epoch 4/70\n",
      "900/900 [==============================] - 117s 130ms/step - loss: 0.6915 - acc: 0.7083 - val_loss: 0.6205 - val_acc: 0.7535\n",
      "Epoch 5/70\n",
      "900/900 [==============================] - 116s 129ms/step - loss: 0.6081 - acc: 0.7522 - val_loss: 0.4818 - val_acc: 0.8245\n",
      "Epoch 6/70\n",
      "900/900 [==============================] - 116s 129ms/step - loss: 0.5733 - acc: 0.7761 - val_loss: 0.5278 - val_acc: 0.7892\n",
      "Epoch 7/70\n",
      "900/900 [==============================] - 117s 130ms/step - loss: 0.5037 - acc: 0.8089 - val_loss: 0.4936 - val_acc: 0.8114\n",
      "Epoch 8/70\n",
      "900/900 [==============================] - 116s 129ms/step - loss: 0.4876 - acc: 0.8167 - val_loss: 0.5580 - val_acc: 0.7762\n",
      "Epoch 9/70\n",
      "900/900 [==============================] - 117s 130ms/step - loss: 0.4708 - acc: 0.8261 - val_loss: 0.4836 - val_acc: 0.8155\n",
      "Epoch 10/70\n",
      "900/900 [==============================] - 118s 131ms/step - loss: 0.4622 - acc: 0.8311 - val_loss: 0.4510 - val_acc: 0.8381\n",
      "Epoch 11/70\n",
      "900/900 [==============================] - 116s 129ms/step - loss: 0.4258 - acc: 0.8350 - val_loss: 0.4268 - val_acc: 0.8478\n",
      "Epoch 12/70\n",
      "900/900 [==============================] - 116s 129ms/step - loss: 0.4342 - acc: 0.8383 - val_loss: 0.4057 - val_acc: 0.8523\n",
      "Epoch 13/70\n",
      "900/900 [==============================] - 116s 129ms/step - loss: 0.4126 - acc: 0.8472 - val_loss: 0.4355 - val_acc: 0.8465\n",
      "Epoch 14/70\n",
      "900/900 [==============================] - 116s 128ms/step - loss: 0.3970 - acc: 0.8606 - val_loss: 0.3492 - val_acc: 0.8739\n",
      "Epoch 15/70\n",
      "900/900 [==============================] - 117s 130ms/step - loss: 0.3958 - acc: 0.8561 - val_loss: 0.4583 - val_acc: 0.8353\n",
      "Epoch 16/70\n",
      "900/900 [==============================] - 116s 129ms/step - loss: 0.3927 - acc: 0.8517 - val_loss: 0.3810 - val_acc: 0.8632\n",
      "Epoch 17/70\n",
      "900/900 [==============================] - 116s 129ms/step - loss: 0.3486 - acc: 0.8772 - val_loss: 0.3282 - val_acc: 0.8875\n",
      "Epoch 18/70\n",
      "900/900 [==============================] - 116s 129ms/step - loss: 0.3632 - acc: 0.8722 - val_loss: 0.3088 - val_acc: 0.8964\n",
      "Epoch 19/70\n",
      "900/900 [==============================] - 116s 129ms/step - loss: 0.3519 - acc: 0.8739 - val_loss: 0.3208 - val_acc: 0.8908\n",
      "Epoch 20/70\n",
      "900/900 [==============================] - 116s 129ms/step - loss: 0.3191 - acc: 0.8933 - val_loss: 0.3330 - val_acc: 0.8883\n",
      "Epoch 21/70\n",
      "900/900 [==============================] - 116s 129ms/step - loss: 0.3549 - acc: 0.8728 - val_loss: 0.3020 - val_acc: 0.8949\n",
      "Epoch 22/70\n",
      "900/900 [==============================] - 116s 129ms/step - loss: 0.3386 - acc: 0.8811 - val_loss: 0.3583 - val_acc: 0.8767\n",
      "Epoch 23/70\n",
      "900/900 [==============================] - 116s 129ms/step - loss: 0.3336 - acc: 0.8861 - val_loss: 0.3132 - val_acc: 0.8971\n",
      "Epoch 24/70\n",
      "900/900 [==============================] - 116s 129ms/step - loss: 0.3186 - acc: 0.8817 - val_loss: 0.2893 - val_acc: 0.9032\n",
      "Epoch 25/70\n",
      "900/900 [==============================] - 116s 129ms/step - loss: 0.2985 - acc: 0.8989 - val_loss: 0.3244 - val_acc: 0.8850\n",
      "Epoch 26/70\n",
      "900/900 [==============================] - 116s 129ms/step - loss: 0.3194 - acc: 0.8867 - val_loss: 0.2859 - val_acc: 0.9036\n",
      "Epoch 27/70\n",
      "900/900 [==============================] - 116s 128ms/step - loss: 0.3355 - acc: 0.8889 - val_loss: 0.3174 - val_acc: 0.8905\n",
      "Epoch 28/70\n",
      "900/900 [==============================] - 116s 129ms/step - loss: 0.3035 - acc: 0.8861 - val_loss: 0.2922 - val_acc: 0.9024\n",
      "Epoch 29/70\n",
      "900/900 [==============================] - 116s 129ms/step - loss: 0.3074 - acc: 0.8967 - val_loss: 0.2804 - val_acc: 0.9012\n",
      "Epoch 30/70\n",
      "900/900 [==============================] - 115s 128ms/step - loss: 0.2908 - acc: 0.8983 - val_loss: 0.2738 - val_acc: 0.9045\n",
      "Epoch 31/70\n",
      "900/900 [==============================] - 116s 129ms/step - loss: 0.2918 - acc: 0.8994 - val_loss: 0.3286 - val_acc: 0.8915\n",
      "Epoch 32/70\n",
      "900/900 [==============================] - 116s 129ms/step - loss: 0.2869 - acc: 0.9050 - val_loss: 0.3009 - val_acc: 0.8932\n",
      "Epoch 33/70\n",
      "900/900 [==============================] - 116s 129ms/step - loss: 0.3082 - acc: 0.8922 - val_loss: 0.3242 - val_acc: 0.8921\n",
      "Epoch 34/70\n",
      "900/900 [==============================] - 116s 129ms/step - loss: 0.2717 - acc: 0.9067 - val_loss: 0.2940 - val_acc: 0.9021\n",
      "Epoch 35/70\n",
      "900/900 [==============================] - 116s 128ms/step - loss: 0.2721 - acc: 0.9100 - val_loss: 0.2992 - val_acc: 0.9003\n",
      "Epoch 36/70\n",
      "900/900 [==============================] - 116s 129ms/step - loss: 0.2804 - acc: 0.8933 - val_loss: 0.3409 - val_acc: 0.8805\n",
      "Epoch 37/70\n",
      "900/900 [==============================] - 115s 128ms/step - loss: 0.2584 - acc: 0.9111 - val_loss: 0.2998 - val_acc: 0.9041\n",
      "Epoch 38/70\n",
      "900/900 [==============================] - 116s 129ms/step - loss: 0.2677 - acc: 0.9050 - val_loss: 0.3095 - val_acc: 0.8943\n",
      "Epoch 39/70\n",
      "900/900 [==============================] - 116s 129ms/step - loss: 0.2696 - acc: 0.9050 - val_loss: 0.2677 - val_acc: 0.9084\n",
      "Epoch 40/70\n",
      "900/900 [==============================] - 115s 128ms/step - loss: 0.2625 - acc: 0.9083 - val_loss: 0.2691 - val_acc: 0.9088\n",
      "Epoch 41/70\n",
      "900/900 [==============================] - 116s 128ms/step - loss: 0.2679 - acc: 0.9067 - val_loss: 0.2464 - val_acc: 0.9165\n",
      "Epoch 42/70\n",
      "900/900 [==============================] - 116s 129ms/step - loss: 0.2679 - acc: 0.9050 - val_loss: 0.3170 - val_acc: 0.8841\n",
      "Epoch 43/70\n",
      "900/900 [==============================] - 116s 129ms/step - loss: 0.2757 - acc: 0.9083 - val_loss: 0.2794 - val_acc: 0.9052\n",
      "Epoch 44/70\n",
      "900/900 [==============================] - 116s 129ms/step - loss: 0.2504 - acc: 0.9106 - val_loss: 0.3064 - val_acc: 0.8983\n",
      "Epoch 45/70\n",
      "900/900 [==============================] - 115s 128ms/step - loss: 0.2430 - acc: 0.9183 - val_loss: 0.3362 - val_acc: 0.8940\n",
      "Epoch 46/70\n",
      "900/900 [==============================] - 116s 129ms/step - loss: 0.2575 - acc: 0.9150 - val_loss: 0.2587 - val_acc: 0.9161\n",
      "Epoch 47/70\n",
      "900/900 [==============================] - 116s 129ms/step - loss: 0.2362 - acc: 0.9156 - val_loss: 0.4884 - val_acc: 0.8204\n",
      "Epoch 48/70\n",
      "900/900 [==============================] - 116s 128ms/step - loss: 0.2379 - acc: 0.9122 - val_loss: 0.2493 - val_acc: 0.9206\n",
      "Epoch 49/70\n",
      "900/900 [==============================] - 116s 128ms/step - loss: 0.2336 - acc: 0.9156 - val_loss: 0.2693 - val_acc: 0.9068\n",
      "Epoch 50/70\n",
      "900/900 [==============================] - 116s 129ms/step - loss: 0.2281 - acc: 0.9233 - val_loss: 0.2893 - val_acc: 0.9030\n",
      "Epoch 51/70\n",
      "900/900 [==============================] - 115s 128ms/step - loss: 0.2332 - acc: 0.9128 - val_loss: 0.2635 - val_acc: 0.9202\n",
      "Epoch 52/70\n",
      "900/900 [==============================] - 115s 128ms/step - loss: 0.2441 - acc: 0.9128 - val_loss: 0.2733 - val_acc: 0.9110\n",
      "Epoch 53/70\n",
      "900/900 [==============================] - 116s 129ms/step - loss: 0.2227 - acc: 0.9311 - val_loss: 0.3495 - val_acc: 0.8846\n",
      "Epoch 54/70\n",
      "900/900 [==============================] - 116s 129ms/step - loss: 0.2595 - acc: 0.9050 - val_loss: 0.2353 - val_acc: 0.9242\n",
      "Epoch 55/70\n",
      "900/900 [==============================] - 116s 129ms/step - loss: 0.2457 - acc: 0.9178 - val_loss: 0.2370 - val_acc: 0.9231\n",
      "Epoch 56/70\n",
      "900/900 [==============================] - 116s 129ms/step - loss: 0.2173 - acc: 0.9189 - val_loss: 0.2460 - val_acc: 0.9207\n",
      "Epoch 57/70\n",
      "900/900 [==============================] - 116s 129ms/step - loss: 0.2116 - acc: 0.9278 - val_loss: 0.2497 - val_acc: 0.9151\n",
      "Epoch 58/70\n",
      "900/900 [==============================] - 116s 129ms/step - loss: 0.2332 - acc: 0.9194 - val_loss: 0.2594 - val_acc: 0.9142\n",
      "Epoch 59/70\n",
      "900/900 [==============================] - 116s 129ms/step - loss: 0.2390 - acc: 0.9183 - val_loss: 0.2414 - val_acc: 0.9178\n",
      "Epoch 60/70\n",
      "900/900 [==============================] - 116s 128ms/step - loss: 0.2235 - acc: 0.9267 - val_loss: 0.2395 - val_acc: 0.9214\n",
      "Epoch 61/70\n",
      "900/900 [==============================] - 116s 129ms/step - loss: 0.2318 - acc: 0.9222 - val_loss: 0.2383 - val_acc: 0.9198\n",
      "Epoch 62/70\n",
      "900/900 [==============================] - 116s 129ms/step - loss: 0.2100 - acc: 0.9272 - val_loss: 0.2544 - val_acc: 0.9178\n",
      "Epoch 63/70\n",
      "900/900 [==============================] - 116s 129ms/step - loss: 0.2294 - acc: 0.9206 - val_loss: 0.2408 - val_acc: 0.9152\n",
      "Epoch 64/70\n",
      "900/900 [==============================] - 116s 128ms/step - loss: 0.2224 - acc: 0.9256 - val_loss: 0.2384 - val_acc: 0.9187\n",
      "Epoch 65/70\n",
      "900/900 [==============================] - 116s 129ms/step - loss: 0.2067 - acc: 0.9272 - val_loss: 0.2457 - val_acc: 0.9178\n",
      "Epoch 66/70\n",
      "900/900 [==============================] - 117s 129ms/step - loss: 0.2109 - acc: 0.9306 - val_loss: 0.3102 - val_acc: 0.8905\n",
      "Epoch 67/70\n",
      "900/900 [==============================] - 116s 129ms/step - loss: 0.1835 - acc: 0.9417 - val_loss: 0.2783 - val_acc: 0.9034\n",
      "Epoch 68/70\n",
      "900/900 [==============================] - 116s 129ms/step - loss: 0.2388 - acc: 0.9139 - val_loss: 0.2339 - val_acc: 0.9186\n",
      "Epoch 69/70\n",
      "900/900 [==============================] - 116s 129ms/step - loss: 0.2196 - acc: 0.9233 - val_loss: 0.2364 - val_acc: 0.9212\n",
      "Epoch 70/70\n",
      "900/900 [==============================] - 116s 129ms/step - loss: 0.2050 - acc: 0.9317 - val_loss: 0.2569 - val_acc: 0.9114\n"
     ]
    },
    {
     "data": {
      "text/plain": [
       "<keras.callbacks.History at 0x7f7a20fce908>"
      ]
     },
     "execution_count": 15,
     "metadata": {
      "tags": []
     },
     "output_type": "execute_result"
    }
   ],
   "source": [
    "model_final.fit_generator(\n",
    "train_generator,\n",
    "samples_per_epoch = nb_train_samples,\n",
    "epochs = epochs,\n",
    "validation_data = validation_generator,\n",
    "nb_val_samples = nb_validation_samples,\n",
    "callbacks=[TensorBoardColabCallback(tbc)])"
   ]
  },
  {
   "cell_type": "code",
   "execution_count": 0,
   "metadata": {
    "colab": {},
    "colab_type": "code",
    "id": "cEYOCDmVuC3k"
   },
   "outputs": [],
   "source": [
    "model_final.save('93-91.h5')"
   ]
  },
  {
   "cell_type": "code",
   "execution_count": 0,
   "metadata": {
    "colab": {
     "base_uri": "https://localhost:8080/",
     "height": 35
    },
    "colab_type": "code",
    "id": "CiN6WzyJgL7T",
    "outputId": "e313b363-63eb-4df5-f72e-082404d8b166"
   },
   "outputs": [
    {
     "name": "stdout",
     "output_type": "stream",
     "text": [
      "Found 600 images belonging to 3 classes.\n"
     ]
    }
   ],
   "source": [
    "test_data_dir=\"drive/My Drive/final_dataset_valid/test_set\"\n",
    "test_generator = train_datagen.flow_from_directory(\n",
    "test_data_dir,\n",
    "target_size = (img_height, img_width),\n",
    "batch_size = batch_size, \n",
    "class_mode = \"categorical\",\n",
    "shuffle = False)"
   ]
  },
  {
   "cell_type": "code",
   "execution_count": 0,
   "metadata": {
    "colab": {
     "base_uri": "https://localhost:8080/",
     "height": 35
    },
    "colab_type": "code",
    "id": "GWp-LSXCgzqK",
    "outputId": "aa56b655-5466-4d02-87c3-5cfa0e33d11d"
   },
   "outputs": [
    {
     "name": "stdout",
     "output_type": "stream",
     "text": [
      "300/300 [==============================] - 103s 344ms/step\n"
     ]
    }
   ],
   "source": [
    "pred = model_final.predict_generator(test_generator,steps = len(test_generator), verbose = 1)"
   ]
  },
  {
   "cell_type": "code",
   "execution_count": 0,
   "metadata": {
    "colab": {},
    "colab_type": "code",
    "id": "TdLDkG2yiHzs"
   },
   "outputs": [],
   "source": [
    "true_classes = test_generator.classes\n",
    "class_labels = list(test_generator.class_indices.keys())  "
   ]
  },
  {
   "cell_type": "code",
   "execution_count": 0,
   "metadata": {
    "colab": {},
    "colab_type": "code",
    "id": "15nuJ3RYw-_Y"
   },
   "outputs": [],
   "source": [
    "from sklearn.metrics import classification_report"
   ]
  },
  {
   "cell_type": "code",
   "execution_count": 0,
   "metadata": {
    "colab": {},
    "colab_type": "code",
    "id": "-TeeSGZxxQfU"
   },
   "outputs": [],
   "source": [
    "import numpy\n",
    "predicted_classes = numpy.argmax(pred, axis=1)"
   ]
  },
  {
   "cell_type": "code",
   "execution_count": 0,
   "metadata": {
    "colab": {
     "base_uri": "https://localhost:8080/",
     "height": 201
    },
    "colab_type": "code",
    "id": "g_8cb97DyjXC",
    "outputId": "058517a9-1206-43ca-d4a4-f945a6b43f5a"
   },
   "outputs": [
    {
     "name": "stdout",
     "output_type": "stream",
     "text": [
      "              precision    recall  f1-score   support\n",
      "\n",
      "          CR       0.93      0.90      0.92       200\n",
      "          GW       0.86      0.96      0.91       200\n",
      "          PO       0.94      0.87      0.90       200\n",
      "\n",
      "    accuracy                           0.91       600\n",
      "   macro avg       0.91      0.91      0.91       600\n",
      "weighted avg       0.91      0.91      0.91       600\n",
      "\n"
     ]
    }
   ],
   "source": [
    "report = classification_report(true_classes, predicted_classes, target_names=class_labels)\n",
    "print(report) "
   ]
  }
 ],
 "metadata": {
  "accelerator": "GPU",
  "colab": {
   "name": "succes-train-validation-test.ipynb",
   "provenance": []
  },
  "kernelspec": {
   "display_name": "Python 3",
   "language": "python",
   "name": "python3"
  },
  "language_info": {
   "codemirror_mode": {
    "name": "ipython",
    "version": 3
   },
   "file_extension": ".py",
   "mimetype": "text/x-python",
   "name": "python",
   "nbconvert_exporter": "python",
   "pygments_lexer": "ipython3",
   "version": "3.7.3"
  }
 },
 "nbformat": 4,
 "nbformat_minor": 1
}
